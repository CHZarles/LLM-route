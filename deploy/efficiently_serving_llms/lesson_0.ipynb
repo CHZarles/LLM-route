{
 "cells": [
  {
   "cell_type": "markdown",
   "metadata": {},
   "source": [
    "# Auto-Regressive Models\n",
    "## Understand how auto-regressive large language models generate text token by token."
   ]
  },
  {
   "cell_type": "code",
   "execution_count": 50,
   "metadata": {},
   "outputs": [],
   "source": [
    "import time\n",
    "\n",
    "import matplotlib.pyplot as plt\n",
    "import numpy as np\n",
    "import torch\n",
    "from transformers import AutoModelForCausalLM, AutoTokenizer"
   ]
  },
  {
   "cell_type": "markdown",
   "metadata": {},
   "source": [
    "## Initialize the model and the tokenizer"
   ]
  },
  {
   "cell_type": "code",
   "execution_count": 51,
   "metadata": {},
   "outputs": [
    {
     "name": "stdout",
     "output_type": "stream",
     "text": [
      "GPT2LMHeadModel(\n",
      "  (transformer): GPT2Model(\n",
      "    (wte): Embedding(50257, 768)\n",
      "    (wpe): Embedding(1024, 768)\n",
      "    (drop): Dropout(p=0.1, inplace=False)\n",
      "    (h): ModuleList(\n",
      "      (0-11): 12 x GPT2Block(\n",
      "        (ln_1): LayerNorm((768,), eps=1e-05, elementwise_affine=True)\n",
      "        (attn): GPT2SdpaAttention(\n",
      "          (c_attn): Conv1D()\n",
      "          (c_proj): Conv1D()\n",
      "          (attn_dropout): Dropout(p=0.1, inplace=False)\n",
      "          (resid_dropout): Dropout(p=0.1, inplace=False)\n",
      "        )\n",
      "        (ln_2): LayerNorm((768,), eps=1e-05, elementwise_affine=True)\n",
      "        (mlp): GPT2MLP(\n",
      "          (c_fc): Conv1D()\n",
      "          (c_proj): Conv1D()\n",
      "          (act): NewGELUActivation()\n",
      "          (dropout): Dropout(p=0.1, inplace=False)\n",
      "        )\n",
      "      )\n",
      "    )\n",
      "    (ln_f): LayerNorm((768,), eps=1e-05, elementwise_affine=True)\n",
      "  )\n",
      "  (lm_head): Linear(in_features=768, out_features=50257, bias=False)\n",
      ")\n"
     ]
    }
   ],
   "source": [
    "model_name = \"gpt2\"\n",
    "tokenizer = AutoTokenizer.from_pretrained(model_name)\n",
    "model = AutoModelForCausalLM.from_pretrained(model_name)\n",
    "print(model)"
   ]
  },
  {
   "cell_type": "markdown",
   "metadata": {},
   "source": [
    "Here's a brief explanation of each component:\n",
    "\n",
    "- `GPT2LMHeadModel`: The main model class.\n",
    "  - `transformer`: The core transformer model.\n",
    "    - `wte`: Token embeddings.\n",
    "    - `wpe`: Positional embeddings.\n",
    "    - `drop`: Dropout layer.\n",
    "    - `h`: List of transformer blocks (`GPT2Block`).\n",
    "      - Each `GPT2Block` contains:\n",
    "        - `ln_1`: Layer normalization.\n",
    "        - `attn`: Self-attention mechanism (`GPT2SdpaAttention`).\n",
    "          - `c_attn`: Linear transformation for query, key, and value.\n",
    "          - `c_proj`: Linear transformation for the output.\n",
    "          - `attn_dropout`: Dropout for attention.\n",
    "          - `resid_dropout`: Dropout for residual connection.\n",
    "        - `ln_2`: Layer normalization.\n",
    "        - `mlp`: Feed-forward neural network (`GPT2MLP`).\n",
    "          - `c_fc`: Linear transformation for the hidden layer.\n",
    "          - `c_proj`: Linear transformation for the output layer.\n",
    "          - `act`: Activation function (GELU).\n",
    "          - `dropout`: Dropout layer.\n",
    "    - `ln_f`: Final layer normalization.\n",
    "  - `lm_head`: Linear layer for language modeling head."
   ]
  },
  {
   "cell_type": "markdown",
   "metadata": {},
   "source": [
    "# tokenizing the prompt"
   ]
  },
  {
   "cell_type": "code",
   "execution_count": 52,
   "metadata": {},
   "outputs": [
    {
     "name": "stdout",
     "output_type": "stream",
     "text": [
      "input_ids : tensor([[  464,  2068,  7586, 21831, 18045,   625,   262]])\n",
      "attention_mask : tensor([[1, 1, 1, 1, 1, 1, 1]])\n"
     ]
    }
   ],
   "source": [
    "prompt = \"The quick brown fox jumps over the\"\n",
    "inputs = tokenizer(prompt, return_tensors=\"pt\")\n",
    "for k, v in inputs.items():\n",
    "    print(k , \":\" , v)"
   ]
  },
  {
   "cell_type": "markdown",
   "metadata": {},
   "source": [
    "`input_ids` : the mapping from particular chunks of the text \n",
    "            into these tokens from the tokniizer\n",
    "\n",
    "`attention_mask`: a tensor that goes along with input_ids for\n",
    "                the purpose of determining what tokens within\n",
    "                the particular input_ids are should be attended to\n",
    "                which other tokens. (there is 1 for each input token id.)"
   ]
  },
  {
   "cell_type": "markdown",
   "metadata": {},
   "source": [
    " # predict and look at the shape of the logits tensor"
   ]
  },
  {
   "cell_type": "code",
   "execution_count": 53,
   "metadata": {},
   "outputs": [
    {
     "name": "stdout",
     "output_type": "stream",
     "text": [
      "torch.Size([1, 7, 50257])\n"
     ]
    }
   ],
   "source": [
    "with torch.no_grad():\n",
    "    outputs = model(**inputs)\n",
    "\n",
    "logits = outputs.logits\n",
    "print(logits.shape)"
   ]
  },
  {
   "cell_type": "markdown",
   "metadata": {},
   "source": [
    "`1` - batch size\n",
    "\n",
    "`7` - the sequence length that we pass in\n",
    "\n",
    "`50257` - the vocabulary size which how many possible tokens that we might \n",
    "        generate in the output"
   ]
  },
  {
   "cell_type": "markdown",
   "metadata": {},
   "source": [
    "# to get the logits for the last token in the input sequence"
   ]
  },
  {
   "cell_type": "code",
   "execution_count": 54,
   "metadata": {},
   "outputs": [],
   "source": [
    "last_logits = outputs.logits[0, -1, :]"
   ]
  },
  {
   "cell_type": "markdown",
   "metadata": {},
   "source": [
    "`[0, -1, :] `\n",
    "\n",
    "`\"0\"` : the first batch\n",
    "\n",
    "`\"-1\"`: correspond to the last token in the input sequence\n",
    "      because we are trying to predict the next token of the input sequence\n",
    "      so we just focus on the last token \n",
    "\n",
    "`\":\"`: all the possible tokens that we might generate in the output"
   ]
  },
  {
   "cell_type": "markdown",
   "metadata": {},
   "source": [
    "# to get the most likely token that we might generate in the output"
   ]
  },
  {
   "cell_type": "code",
   "execution_count": 55,
   "metadata": {},
   "outputs": [
    {
     "name": "stdout",
     "output_type": "stream",
     "text": [
      "tensor(13990)\n"
     ]
    }
   ],
   "source": [
    "next_token_id = last_logits.argmax()\n",
    "print(next_token_id)"
   ]
  },
  {
   "cell_type": "markdown",
   "metadata": {},
   "source": [
    "# to get the top 10 most likely tokens that we might generate in the output"
   ]
  },
  {
   "cell_type": "code",
   "execution_count": 56,
   "metadata": {},
   "outputs": [
    {
     "name": "stdout",
     "output_type": "stream",
     "text": [
      "[' fence', ' edge', ' wall', ' table', ' top', ' ground', ' bar', ' railing', ' tree', ' fox']\n"
     ]
    }
   ],
   "source": [
    "top_k = torch.topk(last_logits, k=10)\n",
    "tokens = [tokenizer.decode(token_id) for token_id in top_k.indices]\n",
    "print(tokens)"
   ]
  },
  {
   "cell_type": "markdown",
   "metadata": {},
   "source": [
    "\n",
    "### how do we use these probabilities to generate text? \n",
    "\n",
    "This is where decoding strategies, such as greedy search and beam search, come into play.\n",
    "ref :[Decoding Strategies in Large Language Models](https://mlabonne.github.io/blog/posts/2023-06-07-Decoding_strategies.html)"
   ]
  },
  {
   "cell_type": "markdown",
   "metadata": {},
   "source": [
    "#  how to construct the next input ?"
   ]
  },
  {
   "cell_type": "code",
   "execution_count": 57,
   "metadata": {},
   "outputs": [],
   "source": [
    "next_inpusts = {\n",
    "    \"input_ids\": torch.cat([inputs[\"input_ids\"], next_token_id.reshape((1, 1))], dim=1),\n",
    "    \"attention_mask\": torch.cat(\n",
    "        [\n",
    "            inputs[\"attention_mask\"],\n",
    "            torch.ones((1, 1)).type_as(inputs[\"attention_mask\"]),\n",
    "        ],\n",
    "        dim=1,\n",
    "    ),\n",
    "}\n"
   ]
  },
  {
   "cell_type": "markdown",
   "metadata": {},
   "source": [
    "# Furthemore, let's try to calculate the time taken to generate the next token"
   ]
  },
  {
   "cell_type": "code",
   "execution_count": 58,
   "metadata": {},
   "outputs": [
    {
     "name": "stdout",
     "output_type": "stream",
     "text": [
      "sum(durations_s) = 0.7307431697845459 s\n",
      "generated_tokens = [' fence', ' and', ' runs', ' into', ' the', ' bushes', '.', '\\n', '\\n', '\"']\n"
     ]
    }
   ],
   "source": [
    "# a helper function that generate token id \n",
    "def generate_token(inputs):\n",
    "    with torch.no_grad():\n",
    "        outputs = model(**inputs)\n",
    "    logits = outputs.logits\n",
    "    last_logits = logits[0, -1, :]\n",
    "    next_token_id = last_logits.argmax()\n",
    "    return next_token_id\n",
    "\n",
    "\n",
    "generated_tokens = []\n",
    "next_inputs = inputs\n",
    "durations_s = []\n",
    "for _ in range(10):\n",
    "    t0 = time.time()\n",
    "    # 注意这里每次都要重新传入全部next_inputs\n",
    "    next_token_id = generate_token(next_inputs)\n",
    "    durations_s += [time.time() - t0]\n",
    "\n",
    "    # 将新生成的 token 拼接到输入\n",
    "    next_inputs = {\n",
    "        \"input_ids\": torch.cat(\n",
    "            [next_inputs[\"input_ids\"], next_token_id.reshape((1, 1))], dim=1\n",
    "        ),\n",
    "        \"attention_mask\": torch.cat(\n",
    "            [\n",
    "                next_inputs[\"attention_mask\"],\n",
    "                torch.tensor([[1]]),\n",
    "            ],\n",
    "            dim=1,\n",
    "        ),\n",
    "    }\n",
    "\n",
    "    next_token = tokenizer.decode(next_token_id)\n",
    "    generated_tokens.append(next_token)\n",
    "\n",
    "print(f\"sum(durations_s) = {sum(durations_s)} s\")\n",
    "print(f\"generated_tokens = {generated_tokens}\")\n",
    "\n"
   ]
  },
  {
   "cell_type": "markdown",
   "metadata": {},
   "source": [
    "# try to look at the time consumed for each token generation\n"
   ]
  },
  {
   "cell_type": "code",
   "execution_count": 59,
   "metadata": {},
   "outputs": [
    {
     "data": {
      "image/png": "[encoded data removed]",
      "text/plain": [
       "<Figure size 640x480 with 1 Axes>"
      ]
     },
     "metadata": {},
     "output_type": "display_data"
    }
   ],
   "source": [
    "import matplotlib.pyplot as plt\n",
    "\n",
    "plt.plot(durations_s)\n",
    "plt.show()\n"
   ]
  },
  {
   "cell_type": "markdown",
   "metadata": {},
   "source": [
    "Generally, it takes more and more time to generate a new token because the input length becoome longer and longer "
   ]
  },
  {
   "cell_type": "markdown",
   "metadata": {},
   "source": [
    "# Use kv cache to improve the performernce\n",
    "\n",
    "这个机制看上去只适合用在decoder only的模型\n",
    "\n",
    "- 1这种模型的 ”未来的输出“ 不会影响 ”以前的输出”。 \n",
    "- 在产生新的输出token时，旧的K信息是要用到的（想一下矩阵乘法，就是，新Q的最后一行，要和以前的旧V矩阵相乘），又基于第一点，旧的K矩阵可以缓存起来。\n",
    "- 在产生新的输出token时，V的旧值也是不变的，直接缓存起来。\n",
    "\n",
    "ref：\n",
    "- [kv-cache、decoder only vs. BERT, 单向注意力 vs. 双向注意力](https://www.bilibili.com/video/BV1sw4m1v7sa/?spm_id_from=333.999.top_right_bar_window_history.content.click&vd_source=27d3b33a76014ebb5a906ad40fa382de)\n",
    "- [[LLMs 实践] 20 llama2 源码分析 cache KV（keys、values cache）加速推理\n",
    "](https://www.bilibili.com/video/BV1FB4y1Z79y/?spm_id_from=333.999.0.0&vd_source=27d3b33a76014ebb5a906ad40fa382de)\n",
    "\n",
    "Modify the generate helper function to return the next token and the key/value tensors"
   ]
  },
  {
   "cell_type": "code",
   "execution_count": 60,
   "metadata": {},
   "outputs": [],
   "source": [
    "def generate_token_with_past(inputs):\n",
    "    with torch.no_grad():\n",
    "        outputs = model(**inputs)\n",
    "    logits = outputs.logits\n",
    "    last_logits = logits[0, -1, :]\n",
    "    next_token_id = last_logits.argmax()\n",
    "    return next_token_id, outputs.past_key_values # !!返回 past_key_values\n"
   ]
  },
  {
   "cell_type": "markdown",
   "metadata": {},
   "source": [
    "Generate 10 tokens using the updated helper function"
   ]
  },
  {
   "cell_type": "code",
   "execution_count": 61,
   "metadata": {},
   "outputs": [
    {
     "name": "stdout",
     "output_type": "stream",
     "text": [
      "sum(durations_cached_s) = 0.565244197845459 s\n",
      "generated_tokens = [' fence', ' and', ' runs', ' into', ' the', ' bushes', '.', '\\n', '\\n', '\"']\n"
     ]
    }
   ],
   "source": [
    "durations_cached_s = []\n",
    "generated_tokens = []\n",
    "next_inputs = inputs\n",
    "for _ in range(10):\n",
    "    t0 = time.time()\n",
    "    next_token_id, past_key_values = generate_token_with_past(next_inputs)\n",
    "    durations_cached_s += [time.time() - t0]\n",
    "    next_inputs  =  {\n",
    "        \"input_ids\": next_token_id.reshape((1, 1)),\n",
    "        \"attention_mask\": torch.cat([\n",
    "            next_inpusts[\"attention_mask\"],\n",
    "            torch.tensor([[1]])\n",
    "        ], dim=1),\n",
    "        \"past_key_values\": past_key_values\n",
    "    }\n",
    "    next_token = tokenizer.decode(next_token_id)\n",
    "    generated_tokens.append(next_token)\n",
    "print(f\"sum(durations_cached_s) = {sum(durations_cached_s)} s\")\n",
    "print(f\"generated_tokens = {generated_tokens}\")\n",
    "\n"
   ]
  },
  {
   "cell_type": "markdown",
   "metadata": {},
   "source": [
    "# watch the effect"
   ]
  },
  {
   "cell_type": "code",
   "execution_count": 62,
   "metadata": {},
   "outputs": [
    {
     "name": "stdout",
     "output_type": "stream",
     "text": [
      "[0.10108447074890137, 0.06419849395751953, 0.06079292297363281, 0.06436276435852051, 0.07559609413146973, 0.06938886642456055, 0.07271313667297363, 0.07627129554748535, 0.07401132583618164, 0.07232379913330078]\n"
     ]
    },
    {
     "data": {
      "image/png": "[encoded data removed]",
      "text/plain": [
       "<Figure size 640x480 with 1 Axes>"
      ]
     },
     "metadata": {},
     "output_type": "display_data"
    }
   ],
   "source": [
    "plt.clf()\n",
    "plt.plot(durations_s)\n",
    "print(durations_s)\n",
    "plt.plot(durations_cached_s)\n",
    "plt.show()"
   ]
  }
 ],
 "metadata": {
  "kernelspec": {
   "display_name": "chatglm3-demo",
   "language": "python",
   "name": "python3"
  },
  "language_info": {
   "codemirror_mode": {
    "name": "ipython",
    "version": 3
   },
   "file_extension": ".py",
   "mimetype": "text/x-python",
   "name": "python",
   "nbconvert_exporter": "python",
   "pygments_lexer": "ipython3",
   "version": "3.10.16"
  }
 },
 "nbformat": 4,
 "nbformat_minor": 2
}
