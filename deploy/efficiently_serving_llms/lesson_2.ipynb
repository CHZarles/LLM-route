{
 "cells": [
  {
   "cell_type": "markdown",
   "metadata": {},
   "source": [
    "# Lesson 3 - Continuous Batching\n",
    "reference: [大白话解说Continous Batching](https://cloud.tencent.com/developer/article/2390005)\n",
    "\n",
    "In this lesson, we'll discuss the production set up of \"batching\" in LLM inference , \"Continuous batching\".\n",
    "- The key idea behind continuous batching is constantly swap out requests from the batch that have completed generation for requests in the queue that are waiting to the processed"
   ]
  }
 ],
 "metadata": {
  "language_info": {
   "name": "python"
  }
 },
 "nbformat": 4,
 "nbformat_minor": 2
}
